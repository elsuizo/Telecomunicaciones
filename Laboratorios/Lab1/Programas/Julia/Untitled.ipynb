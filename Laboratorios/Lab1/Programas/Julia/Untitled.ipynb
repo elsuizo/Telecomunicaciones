{
 "cells": [
  {
   "cell_type": "markdown",
   "metadata": {},
   "source": [
    "#Problema:1\n",
    "\n",
    "**Dada una fuente de datos en un archivo de texto nombrado:*texto.txt*.\n",
    "Escribir un algoritmo de manera tal que calcule la probabilidad de ocurrencia \n",
    "de cada símbolo existente en la fuente.\n",
    "Mostrar en un listado (sea en pantalla o en otro archivo *txt* cada \n",
    "elemento de la fuente con su probabilidad calculada asociada.\n",
    "Calcular la entropía de la fuente.**\n"
   ]
  },
  {
   "cell_type": "markdown",
   "metadata": {},
   "source": [
    "Las siguientes son implementaciones en el lenguaje de programación Julia(http://julialang.org/). El cual es *opensource*, dinámico y tiene velocidades de procesamiento relativas a *C* entre otras caracteristicas positivas."
   ]
  },
  {
   "cell_type": "code",
   "execution_count": 1,
   "metadata": {
    "collapsed": false
   },
   "outputs": [
    {
     "data": {
      "text/plain": [
       "show_source (generic function with 1 method)"
      ]
     },
     "execution_count": 1,
     "metadata": {},
     "output_type": "execute_result"
    }
   ],
   "source": [
    "# Funcion para calcular las probabilidades de ocurrencia de cada simbolo \n",
    "# existente en una fuente de informacion\n",
    "\n",
    "function probs(iter)\n",
    "    d = Dict{eltype(iter), Int}()\n",
    "    l = length(iter)\n",
    "    \n",
    "    for e in iter\n",
    "        d[e] = get(d, e, 0) + 1 \n",
    "    end\n",
    "    p = collect((values(d))) / l \n",
    "    return d,p\n",
    "end\n",
    "# \n",
    "function freqs_pr(iter)\n",
    "    pr = Collections.PriorityQueue()\n",
    "    \n",
    "    for e in iter\n",
    "        pr[\"$e\"] = get(pr, \"$e\", 0) + 1 \n",
    "    end\n",
    "    \n",
    "    return pr\n",
    "end\n",
    "\n",
    "\n",
    "    \n",
    "    \n",
    "\n",
    "function entropy(p)\n",
    "    \n",
    "    i = 1 ./ (log2(p))\n",
    "    sum(p)\n",
    "    end\n",
    "\n",
    "function show_source(d)\n",
    "    \n",
    "    for (v,k) in zip(values(d),keys(d))\n",
    "        println(\"elemento: $k --> frecuencia: $v\")\n",
    "    end\n",
    "end\n",
    "    "
   ]
  },
  {
   "cell_type": "code",
   "execution_count": 3,
   "metadata": {
    "collapsed": false
   },
   "outputs": [
    {
     "data": {
      "text/plain": [
       "minvalue (generic function with 1 method)"
      ]
     },
     "execution_count": 3,
     "metadata": {},
     "output_type": "execute_result"
    }
   ],
   "source": [
    "# returns the least value of dictionary enteries\n",
    "function minvalue(pd)\n",
    "    runonce = false\n",
    "    \n",
    "    (kmin,cmin) = (nothing,nothing)\n",
    "    \n",
    "    for (k,v) in pd\n",
    "        if( !runonce )\n",
    "            runonce = true\n",
    "            (kmin,cmin) = (k,v)\n",
    "        elseif( v <= cmin)\n",
    "            (kmin, cmin) = (k,v)\n",
    "        end\n",
    "    end\n",
    "    \n",
    "    return (kmin,cmin)\n",
    "end"
   ]
  },
  {
   "cell_type": "code",
   "execution_count": 2,
   "metadata": {
    "collapsed": false
   },
   "outputs": [
    {
     "data": {
      "text/plain": [
       "huffmanTree (generic function with 1 method)"
      ]
     },
     "execution_count": 2,
     "metadata": {},
     "output_type": "execute_result"
    }
   ],
   "source": [
    "function huffmanTree( pd; rounding = 5)\n",
    "    huffman_tree = copy(pd)\n",
    "    \n",
    "    while(length(huffman_tree) > 1)\n",
    "        cmb_prob = 0.0\n",
    "        pair = Dict()\n",
    "        \n",
    "        #get first new item\n",
    "        m = (k,v) = minvalue(huffman_tree) # get the smallest value form the huffman tree\n",
    "        push!(pair,k,v) \n",
    "        cmb_prob += pop!(huffman_tree,k)\n",
    "        \n",
    "        m = (k,v) = minvalue(huffman_tree) # get the smallest value form the huffman tree\n",
    "        push!(pair,k,v) \n",
    "        cmb_prob += pop!(huffman_tree,k)\n",
    "        \n",
    "        push!(huffman_tree,pair,round(cmb_prob,rounding))\n",
    "    end\n",
    "    \n",
    "    return huffman_tree\n",
    "end"
   ]
  },
  {
   "cell_type": "code",
   "execution_count": 4,
   "metadata": {
    "collapsed": false
   },
   "outputs": [
    {
     "data": {
      "text/plain": [
       "huffmanCode (generic function with 1 method)"
      ]
     },
     "execution_count": 4,
     "metadata": {},
     "output_type": "execute_result"
    }
   ],
   "source": [
    "# given a huffman tree create a huffman code\n",
    "function huffmanCode( huff_tree; rounding = 5)\n",
    "    huff_code = copy(huff_tree)\n",
    "    \n",
    "    # set the first node to the empty string which will let the coding propagate down the tree\n",
    "    top = collect(keys(huff_code))[1]\n",
    "    huff_code[top] = \"\"\n",
    "        \n",
    "    while( sum(map((x)->(isa(x,Dict)), collect(keys(huff_code)))) > 0)\n",
    "        # this is complicated way of asking \"Are there any Dictionaries left?\", which is\n",
    "        # equivalent to the question \"Are all the letters encoded?\"\n",
    "        for (k,c) in huff_code\n",
    "            if( isa(k,Dict) )\n",
    "                kz = collect(keys(k))\n",
    "                push!(huff_code, kz[1], c*\"0\")\n",
    "                push!(huff_code, kz[2], c*\"1\")\n",
    "                pop!(huff_code,k) # remove the node, leaving the lower nodes\n",
    "            end\n",
    "        end\n",
    "    end\n",
    "\n",
    "    return huff_code\n",
    "end         "
   ]
  },
  {
   "cell_type": "code",
   "execution_count": 5,
   "metadata": {
    "collapsed": true
   },
   "outputs": [],
   "source": [
    "T = open(readall,\"/home/elsuizo/Telecomunicaciones/Laboratorios/Lab1/Programas/Archivos/texto2.txt\");"
   ]
  },
  {
   "cell_type": "code",
   "execution_count": 6,
   "metadata": {
    "collapsed": false
   },
   "outputs": [
    {
     "data": {
      "text/plain": [
       "\"Tu mejor maestro es tu último error.\\n\""
      ]
     },
     "execution_count": 6,
     "metadata": {},
     "output_type": "execute_result"
    }
   ],
   "source": [
    "T"
   ]
  },
  {
   "cell_type": "code",
   "execution_count": 7,
   "metadata": {
    "collapsed": false
   },
   "outputs": [
    {
     "data": {
      "text/plain": [
       "(Dict(' '=>6,'e'=>4,'r'=>5,'m'=>3,'.'=>1,'\\n'=>1,'T'=>1,'ú'=>1,'t'=>3,'o'=>4,'u'=>2,'a'=>1,'l'=>1,'j'=>1,'s'=>2,'i'=>1),[0.16216216216216217,0.10810810810810811,0.13513513513513514,0.08108108108108109,0.02702702702702703,0.02702702702702703,0.02702702702702703,0.02702702702702703,0.08108108108108109,0.10810810810810811,0.05405405405405406,0.02702702702702703,0.02702702702702703,0.02702702702702703,0.05405405405405406,0.02702702702702703])"
      ]
     },
     "execution_count": 7,
     "metadata": {},
     "output_type": "execute_result"
    }
   ],
   "source": [
    "d,p = probs(T)"
   ]
  },
  {
   "cell_type": "code",
   "execution_count": 16,
   "metadata": {
    "collapsed": false
   },
   "outputs": [
    {
     "ename": "LoadError",
     "evalue": "LoadError: MethodError: `convert` has no method matching convert(::Type{Char}, ::Dict{Any,Any})\nThis may have arisen from a call to the constructor Char(...),\nsince type constructors fall back to convert methods.\nClosest candidates are:\n  call{T}(::Type{T}, ::Any)\n  convert(::Type{Char}, !Matched::UInt32)\n  convert(::Type{Char}, !Matched::Number)\n  ...\nwhile loading In[16], in expression starting on line 1",
     "output_type": "error",
     "traceback": [
      "LoadError: MethodError: `convert` has no method matching convert(::Type{Char}, ::Dict{Any,Any})\nThis may have arisen from a call to the constructor Char(...),\nsince type constructors fall back to convert methods.\nClosest candidates are:\n  call{T}(::Type{T}, ::Any)\n  convert(::Type{Char}, !Matched::UInt32)\n  convert(::Type{Char}, !Matched::Number)\n  ...\nwhile loading In[16], in expression starting on line 1",
      "",
      " in setindex! at dict.jl:643",
      " in push! at deprecated.jl:52",
      " in huffmanTree at In[2]:17"
     ]
    }
   ],
   "source": [
    "huffmanTree(d)"
   ]
  },
  {
   "cell_type": "code",
   "execution_count": 15,
   "metadata": {
    "collapsed": false
   },
   "outputs": [
    {
     "data": {
      "text/plain": [
       "Dict{Char,Int64} with 16 entries:\n",
       "  ' '  => 6\n",
       "  'e'  => 4\n",
       "  'r'  => 5\n",
       "  'm'  => 3\n",
       "  '.'  => 1\n",
       "  '\\n' => 1\n",
       "  'T'  => 1\n",
       "  'ú'  => 1\n",
       "  't'  => 3\n",
       "  'o'  => 4\n",
       "  'u'  => 2\n",
       "  'a'  => 1\n",
       "  'l'  => 1\n",
       "  'j'  => 1\n",
       "  's'  => 2\n",
       "  'i'  => 1"
      ]
     },
     "execution_count": 15,
     "metadata": {},
     "output_type": "execute_result"
    }
   ],
   "source": [
    "d"
   ]
  },
  {
   "cell_type": "code",
   "execution_count": null,
   "metadata": {
    "collapsed": true
   },
   "outputs": [],
   "source": []
  }
 ],
 "metadata": {
  "kernelspec": {
   "display_name": "Julia 0.4.5",
   "language": "julia",
   "name": "julia-0.4"
  },
  "language_info": {
   "file_extension": ".jl",
   "mimetype": "application/julia",
   "name": "julia",
   "version": "0.4.5"
  }
 },
 "nbformat": 4,
 "nbformat_minor": 0
}
