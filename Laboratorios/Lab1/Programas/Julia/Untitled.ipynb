{
 "cells": [
  {
   "cell_type": "markdown",
   "metadata": {},
   "source": [
    "#Problema:1\n",
    "\n",
    "**Dada una fuente de datos en un archivo de texto nombrado:*texto.txt*.\n",
    "Escribir un algoritmo de manera tal que calcule la probabilidad de ocurrencia \n",
    "de cada símbolo existente en la fuente.\n",
    "Mostrar en un listado (sea en pantalla o en otro archivo *txt* cada \n",
    "elemento de la fuente con su probabilidad calculada asociada.\n",
    "Calcular la entropía de la fuente.**\n"
   ]
  },
  {
   "cell_type": "markdown",
   "metadata": {},
   "source": [
    "Las siguientes son implementaciones en el lenguaje de programación Julia(http://julialang.org/). El cual es *opensource*, dinámico y tiene velocidades de procesamiento relativas a *C* entre otras caracteristicas positivas."
   ]
  },
  {
   "cell_type": "code",
   "execution_count": 21,
   "metadata": {
    "collapsed": false
   },
   "outputs": [
    {
     "data": {
      "text/plain": [
       "show_source (generic function with 1 method)"
      ]
     },
     "execution_count": 21,
     "metadata": {},
     "output_type": "execute_result"
    }
   ],
   "source": [
    "# Funcion para calcular las probabilidades de ocurrencia de cada simbolo \n",
    "# existente en una fuente de informacion\n",
    "\n",
    "function probs(iter)\n",
    "    d = Dict{eltype(iter), Int}()\n",
    "    l = length(iter)\n",
    "    \n",
    "    for e in iter\n",
    "        d[e] = get(d, e, 0) + 1 \n",
    "    end\n",
    "    p = collect((values(d))) / l \n",
    "    return d,p\n",
    "end\n",
    "# \n",
    "function freqs_pr(iter)\n",
    "    pr = Collections.PriorityQueue()\n",
    "    \n",
    "    for e in iter\n",
    "        pr[\"$e\"] = get(pr, \"$e\", 0) + 1 \n",
    "    end\n",
    "    \n",
    "    return pr\n",
    "end\n",
    "\n",
    "\n",
    "    \n",
    "    \n",
    "\n",
    "function entropy(p)\n",
    "    \n",
    "    i = 1 ./ (log2(p))\n",
    "    sum(p)\n",
    "    end\n",
    "\n",
    "function show_source(d)\n",
    "    \n",
    "    for (v,k) in zip(values(d),keys(d))\n",
    "        println(\"elemento: $k --> frecuencia: $v\")\n",
    "    end\n",
    "end\n",
    "    "
   ]
  },
  {
   "cell_type": "code",
   "execution_count": 33,
   "metadata": {
    "collapsed": false
   },
   "outputs": [
    {
     "data": {
      "text/plain": [
       "\"El hardware es lo que hace a una máquina rápida; el software es lo que hace que una máquina rápida se vuelva lenta\\n\""
      ]
     },
     "execution_count": 33,
     "metadata": {},
     "output_type": "execute_result"
    }
   ],
   "source": [
    "T = open(readline, \"../Archivos/texto.txt\")\n",
    "#T = \"thisisanexampleforhuffmanencoding\""
   ]
  },
  {
   "cell_type": "code",
   "execution_count": 37,
   "metadata": {
    "collapsed": false
   },
   "outputs": [
    {
     "data": {
      "text/plain": [
       "([' '=>22,'á'=>4,'l'=>6,'m'=>2,'r'=>5,'f'=>1,'o'=>3,'t'=>2,'a'=>14,'E'=>1,'v'=>2,'n'=>5,'e'=>13,'w'=>2,'h'=>3,'d'=>3,'c'=>2,';'=>1,'p'=>2,'i'=>4,'q'=>5,'s'=>4,'u'=>8],[0.192982,0.0350877,0.0526316,0.0175439,0.0438596,0.00877193,0.0263158,0.0175439,0.122807,0.00877193  …  0.0175439,0.0263158,0.0263158,0.0175439,0.00877193,0.0175439,0.0350877,0.0438596,0.0350877,0.0701754])"
      ]
     },
     "execution_count": 37,
     "metadata": {},
     "output_type": "execute_result"
    }
   ],
   "source": [
    "d,p = probs(T[1:end-1])"
   ]
  },
  {
   "cell_type": "code",
   "execution_count": 38,
   "metadata": {
    "collapsed": false
   },
   "outputs": [
    {
     "name": "stdout",
     "output_type": "stream",
     "text": [
      "elemento:   --> frecuencia: 22\n",
      "elemento: á --> frecuencia: 4\n",
      "elemento: l --> frecuencia: 6\n",
      "elemento: m --> frecuencia: 2\n",
      "elemento: r --> frecuencia: 5\n",
      "elemento: f --> frecuencia: 1\n",
      "elemento: o --> frecuencia: 3\n",
      "elemento: t --> frecuencia: 2\n",
      "elemento: a --> frecuencia: 14\n",
      "elemento: E --> frecuencia: 1\n",
      "elemento: v --> frecuencia: 2\n",
      "elemento: n --> frecuencia: 5\n",
      "elemento: e --> frecuencia: 13\n",
      "elemento: w --> frecuencia: 2\n",
      "elemento: h --> frecuencia: 3\n",
      "elemento: d --> frecuencia: 3\n",
      "elemento: c --> frecuencia: 2\n",
      "elemento: ; --> frecuencia: 1\n",
      "elemento: p --> frecuencia: 2\n",
      "elemento: i --> frecuencia: 4\n",
      "elemento: q --> frecuencia: 5\n",
      "elemento: s --> frecuencia: 4\n",
      "elemento: u --> frecuencia: 8\n"
     ]
    }
   ],
   "source": [
    "show_source(d)"
   ]
  },
  {
   "cell_type": "code",
   "execution_count": 3,
   "metadata": {
    "collapsed": false
   },
   "outputs": [
    {
     "data": {
      "text/plain": [
       "PriorityQueue{Any,Any} with 18 entries:\n",
       "  \"i\" => 3\n",
       "  \"x\" => 1\n",
       "  \"s\" => 2\n",
       "  \"c\" => 1\n",
       "  \"m\" => 2\n",
       "  \"n\" => 4\n",
       "  \"t\" => 1\n",
       "  \"h\" => 2\n",
       "  \"f\" => 3\n",
       "  \"e\" => 3\n",
       "  \"o\" => 2\n",
       "  \"d\" => 1\n",
       "  \"u\" => 1\n",
       "  \"a\" => 3\n",
       "  \"p\" => 1\n",
       "  \"l\" => 1\n",
       "  \"r\" => 1\n",
       "  \"g\" => 1"
      ]
     },
     "execution_count": 3,
     "metadata": {},
     "output_type": "execute_result"
    }
   ],
   "source": [
    "pr = freqs_pr(T)"
   ]
  },
  {
   "cell_type": "code",
   "execution_count": 4,
   "metadata": {
    "collapsed": false
   },
   "outputs": [
    {
     "data": {
      "text/plain": [
       "(['l'=>1,'m'=>2,'f'=>3,'t'=>1,'o'=>2,'r'=>1,'a'=>3,'x'=>1,'n'=>4,'e'=>3,'h'=>2,'c'=>1,'d'=>1,'g'=>1,'p'=>1,'i'=>3,'s'=>2,'u'=>1],[0.030303,0.0606061,0.0909091,0.030303,0.0606061,0.030303,0.0909091,0.030303,0.121212,0.0909091,0.0606061,0.030303,0.030303,0.030303,0.030303,0.0909091,0.0606061,0.030303])"
      ]
     },
     "execution_count": 4,
     "metadata": {},
     "output_type": "execute_result"
    }
   ],
   "source": [
    "d,p = probs(T)"
   ]
  },
  {
   "cell_type": "code",
   "execution_count": 18,
   "metadata": {
    "collapsed": false
   },
   "outputs": [
    {
     "data": {
      "text/plain": [
       "18-element Array{Float64,1}:\n",
       " -0.19824 \n",
       " -0.247256\n",
       " -0.289065\n",
       " -0.19824 \n",
       " -0.247256\n",
       " -0.19824 \n",
       " -0.289065\n",
       " -0.19824 \n",
       " -0.328473\n",
       " -0.289065\n",
       " -0.247256\n",
       " -0.19824 \n",
       " -0.19824 \n",
       " -0.19824 \n",
       " -0.19824 \n",
       " -0.289065\n",
       " -0.247256\n",
       " -0.19824 "
      ]
     },
     "execution_count": 18,
     "metadata": {},
     "output_type": "execute_result"
    }
   ],
   "source": [
    "1./(log2(p))"
   ]
  },
  {
   "cell_type": "code",
   "execution_count": 6,
   "metadata": {
    "collapsed": false
   },
   "outputs": [
    {
     "data": {
      "text/plain": [
       "PriorityQueue{Any,Any} with 18 entries:\n",
       "  \"i\" => 3\n",
       "  \"x\" => 1\n",
       "  \"s\" => 2\n",
       "  \"c\" => 1\n",
       "  \"m\" => 2\n",
       "  \"n\" => 4\n",
       "  \"t\" => 1\n",
       "  \"h\" => 2\n",
       "  \"f\" => 3\n",
       "  \"e\" => 3\n",
       "  \"o\" => 2\n",
       "  \"d\" => 1\n",
       "  \"u\" => 1\n",
       "  \"a\" => 3\n",
       "  \"p\" => 1\n",
       "  \"l\" => 1\n",
       "  \"r\" => 1\n",
       "  \"g\" => 1"
      ]
     },
     "execution_count": 6,
     "metadata": {},
     "output_type": "execute_result"
    }
   ],
   "source": [
    "pr"
   ]
  },
  {
   "cell_type": "code",
   "execution_count": 7,
   "metadata": {
    "collapsed": false
   },
   "outputs": [
    {
     "ename": "LoadError",
     "evalue": "low not defined\nwhile loading In[7], in expression starting on line 1",
     "output_type": "error",
     "traceback": [
      "low not defined\nwhile loading In[7], in expression starting on line 1",
      ""
     ]
    }
   ],
   "source": [
    "typeof(low)"
   ]
  },
  {
   "cell_type": "code",
   "execution_count": 8,
   "metadata": {
    "collapsed": false
   },
   "outputs": [],
   "source": [
    "\n",
    "while length(pr) > 1\n",
    "    # copy the last\n",
    "    low,freq1 = Collections.peek(pr)\n",
    "    # extract the last-1\n",
    "    Collections.dequeue!(pr)\n",
    "    # copy the last-1\n",
    "    high,freq2 = Collections.peek(pr)\n",
    "    # extract the last-1\n",
    "    Collections.dequeue!(pr)\n",
    "    \n",
    "    Collections.enqueue!(pr,{freq1+freq2,{low,high}},freq1+freq2)\n",
    "    #@show pr    \n",
    "end\n",
    "    \n",
    "    "
   ]
  },
  {
   "cell_type": "code",
   "execution_count": 9,
   "metadata": {
    "collapsed": false
   },
   "outputs": [
    {
     "data": {
      "text/plain": [
       "1-element Array{Any,1}:\n",
       " {33,{{14,{{6,{\"a\",\"e\"}},{8,{{4,{\"h\",{2,{\"p\",\"l\"}}}},{4,{{2,{\"t\",\"r\"}},\"m\"}}}}}},{19,{{8,{\"n\",{4,{\"o\",\"s\"}}}},{11,{{5,{{2,{\"d\",\"u\"}},\"i\"}},{6,{\"f\",{3,{\"c\",{2,{\"x\",\"g\"}}}}}}}}}}}}"
      ]
     },
     "execution_count": 9,
     "metadata": {},
     "output_type": "execute_result"
    }
   ],
   "source": [
    "k =collect(keys(pr))"
   ]
  },
  {
   "cell_type": "code",
   "execution_count": 10,
   "metadata": {
    "collapsed": false
   },
   "outputs": [
    {
     "data": {
      "text/plain": [
       "1-element Array{Any,1}:\n",
       " {33,{{14,{{6,{\"a\",\"e\"}},{8,{{4,{\"h\",{2,{\"p\",\"l\"}}}},{4,{{2,{\"t\",\"r\"}},\"m\"}}}}}},{19,{{8,{\"n\",{4,{\"o\",\"s\"}}}},{11,{{5,{{2,{\"d\",\"u\"}},\"i\"}},{6,{\"f\",{3,{\"c\",{2,{\"x\",\"g\"}}}}}}}}}}}}"
      ]
     },
     "execution_count": 10,
     "metadata": {},
     "output_type": "execute_result"
    }
   ],
   "source": [
    "k = collect(keys(pr))"
   ]
  },
  {
   "cell_type": "code",
   "execution_count": 11,
   "metadata": {
    "collapsed": false
   },
   "outputs": [
    {
     "data": {
      "text/plain": [
       "2-element Array{Any,1}:\n",
       " {14,{{6,{\"a\",\"e\"}},{8,{{4,{\"h\",{2,{\"p\",\"l\"}}}},{4,{{2,{\"t\",\"r\"}},\"m\"}}}}}}                     \n",
       " {19,{{8,{\"n\",{4,{\"o\",\"s\"}}}},{11,{{5,{{2,{\"d\",\"u\"}},\"i\"}},{6,{\"f\",{3,{\"c\",{2,{\"x\",\"g\"}}}}}}}}}}"
      ]
     },
     "execution_count": 11,
     "metadata": {},
     "output_type": "execute_result"
    }
   ],
   "source": [
    "k[1][2]"
   ]
  },
  {
   "cell_type": "code",
   "execution_count": 12,
   "metadata": {
    "collapsed": false
   },
   "outputs": [
    {
     "name": "stdout",
     "output_type": "stream",
     "text": [
      "ke => {33,{{14,{{6,{\"a\",\"e\"}},{8,{{4,{\"h\",{2,{\"p\",\"l\"}}}},{4,{{2,{\"t\",\"r\"}},\"m\"}}}}}},{19,{{8,{\"n\",{4,{\"o\",\"s\"}}}},{11,{{5,{{2,{\"d\",\"u\"}},\"i\"}},{6,{\"f\",{3,{\"c\",{2,{\"x\",\"g\"}}}}}}}}}}}}\n"
     ]
    }
   ],
   "source": [
    "for ke in k\n",
    "    @show ke\n",
    "end"
   ]
  },
  {
   "cell_type": "code",
   "execution_count": 13,
   "metadata": {
    "collapsed": false
   },
   "outputs": [
    {
     "data": {
      "text/plain": [
       "levelorder (generic function with 1 method)"
      ]
     },
     "execution_count": 13,
     "metadata": {},
     "output_type": "execute_result"
    }
   ],
   "source": [
    "tree = {1, {2, {4, {7, {},\n",
    "                       {}},\n",
    "                   {}},\n",
    "               {5, {},\n",
    "                   {}}},\n",
    "           {3, {6, {8, {},\n",
    "                       {}},\n",
    "                   {9, {},\n",
    "                       {}}},\n",
    "               {}}}\n",
    " \n",
    "levelorder(t, f) = while !isempty(t)\n",
    "                       t = mapreduce(x -> isa(x, Number) ? (f(x); {}) : x, vcat, t)\n",
    "                   end\n",
    " "
   ]
  },
  {
   "cell_type": "code",
   "execution_count": 14,
   "metadata": {
    "collapsed": false
   },
   "outputs": [
    {
     "data": {
      "text/plain": [
       "KeyIterator for a PriorityQueue{Any,Any} with 1 entry. Keys:\n",
       "  {33,{{14,{{6,{\"a\",\"e\"}},{8,{{4,{\"h\",{2,{\"p\",\"l\"}}}},{4,{{2,{\"t\",\"r\"}},\"m\"}}}}…"
      ]
     },
     "execution_count": 14,
     "metadata": {},
     "output_type": "execute_result"
    }
   ],
   "source": [
    "keys(pr)"
   ]
  },
  {
   "cell_type": "code",
   "execution_count": null,
   "metadata": {
    "collapsed": false
   },
   "outputs": [],
   "source": []
  },
  {
   "cell_type": "code",
   "execution_count": null,
   "metadata": {
    "collapsed": true
   },
   "outputs": [],
   "source": []
  },
  {
   "cell_type": "code",
   "execution_count": null,
   "metadata": {
    "collapsed": true
   },
   "outputs": [],
   "source": []
  }
 ],
 "metadata": {
  "kernelspec": {
   "display_name": "Julia 0.3.8",
   "language": "julia",
   "name": "julia-0.3"
  },
  "language_info": {
   "name": "julia",
   "version": "0.3.8"
  }
 },
 "nbformat": 4,
 "nbformat_minor": 0
}
