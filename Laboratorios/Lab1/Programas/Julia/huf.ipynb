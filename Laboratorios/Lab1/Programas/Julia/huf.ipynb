{
 "cells": [
  {
   "cell_type": "markdown",
   "metadata": {},
   "source": [
    "<h1 class='alert alert-success'>Alex Hernandez - INFO THEORY HW #3</h1>"
   ]
  },
  {
   "cell_type": "markdown",
   "metadata": {},
   "source": [
    "##4.3 with Huffman Code"
   ]
  },
  {
   "cell_type": "code",
   "execution_count": 84,
   "metadata": {
    "collapsed": false
   },
   "outputs": [
    {
     "data": {
      "text/plain": [
       "cartPD (generic function with 1 method)"
      ]
     },
     "execution_count": 84,
     "metadata": {},
     "output_type": "execute_result"
    }
   ],
   "source": [
    "## Assume both probability distrubutions are a dictionary\n",
    "function cartPD(p::Dict , k::Dict; rnd = 5 )\n",
    "    pd = Dict()\n",
    "    for (psym, pprob) in p, (ksym, kprob) in k\n",
    "        push!( pd, psym*ksym, round(pprob*kprob,rnd) )\n",
    "    end\n",
    "    \n",
    "    return pd\n",
    "end"
   ]
  },
  {
   "cell_type": "code",
   "execution_count": 85,
   "metadata": {
    "collapsed": false
   },
   "outputs": [
    {
     "data": {
      "text/plain": [
       "{\"B\"=>0.2,\"A\"=>0.8}"
      ]
     },
     "execution_count": 85,
     "metadata": {},
     "output_type": "execute_result"
    }
   ],
   "source": [
    "pd_34 = {\"A\"=>0.8,\"B\"=>0.2}"
   ]
  },
  {
   "cell_type": "code",
   "execution_count": 86,
   "metadata": {
    "collapsed": false
   },
   "outputs": [
    {
     "data": {
      "text/plain": [
       "{\"AA\"=>0.64,\"BB\"=>0.04,\"AB\"=>0.16,\"BA\"=>0.16}"
      ]
     },
     "execution_count": 86,
     "metadata": {},
     "output_type": "execute_result"
    }
   ],
   "source": [
    "pd2_34 = cartPD(pd_34, pd_34)"
   ]
  },
  {
   "cell_type": "code",
   "execution_count": 87,
   "metadata": {
    "collapsed": false
   },
   "outputs": [
    {
     "data": {
      "text/plain": [
       "{\"BBB\"=>0.008,\"BAA\"=>0.128,\"AAB\"=>0.128,\"AAA\"=>0.512,\"BBA\"=>0.032,\"ABB\"=>0.032,\"BAB\"=>0.032,\"ABA\"=>0.128}"
      ]
     },
     "execution_count": 87,
     "metadata": {},
     "output_type": "execute_result"
    }
   ],
   "source": [
    "pd3_34 = cartPD(pd2_34, pd_34)"
   ]
  },
  {
   "cell_type": "code",
   "execution_count": 167,
   "metadata": {
    "collapsed": false
   },
   "outputs": [
    {
     "data": {
      "text/plain": [
       "entropy (generic function with 2 methods)"
      ]
     },
     "execution_count": 167,
     "metadata": {},
     "output_type": "execute_result"
    }
   ],
   "source": [
    "function entropy(pd::Dict{Any,Any}, base=2)\n",
    "    h = 0.0\n",
    "    r = log2(length(pd))\n",
    "    \n",
    "    for (s_i,p_i) in pd\n",
    "        h += (p_i * log(base,(1.0/p_i)))\n",
    "    end\n",
    "    \n",
    "    return h/r\n",
    "end\n",
    "    "
   ]
  },
  {
   "cell_type": "code",
   "execution_count": 168,
   "metadata": {
    "collapsed": false
   },
   "outputs": [
    {
     "data": {
      "text/plain": [
       "0.7219280948873623"
      ]
     },
     "execution_count": 168,
     "metadata": {},
     "output_type": "execute_result"
    }
   ],
   "source": [
    "entropy(pd_34)"
   ]
  },
  {
   "cell_type": "code",
   "execution_count": 169,
   "metadata": {
    "collapsed": false
   },
   "outputs": [
    {
     "data": {
      "text/plain": [
       "0.7219280948873624"
      ]
     },
     "execution_count": 169,
     "metadata": {},
     "output_type": "execute_result"
    }
   ],
   "source": [
    "entropy(pd2_34)"
   ]
  },
  {
   "cell_type": "code",
   "execution_count": 170,
   "metadata": {
    "collapsed": false
   },
   "outputs": [
    {
     "data": {
      "text/plain": [
       "0.7219280948873624"
      ]
     },
     "execution_count": 170,
     "metadata": {},
     "output_type": "execute_result"
    }
   ],
   "source": [
    "entropy(pd3_34)"
   ]
  },
  {
   "cell_type": "code",
   "execution_count": 183,
   "metadata": {
    "collapsed": false
   },
   "outputs": [
    {
     "data": {
      "text/plain": [
       "minvalue (generic function with 1 method)"
      ]
     },
     "execution_count": 183,
     "metadata": {},
     "output_type": "execute_result"
    }
   ],
   "source": [
    "# returns the least value of dictionary enteries\n",
    "function minvalue(pd)\n",
    "    runonce = false\n",
    "    \n",
    "    (kmin,cmin) = (nothing,nothing)\n",
    "    \n",
    "    for (k,v) in pd\n",
    "        if( !runonce )\n",
    "            runonce = true\n",
    "            (kmin,cmin) = (k,v)\n",
    "        elseif( v <= cmin)\n",
    "            (kmin, cmin) = (k,v)\n",
    "        end\n",
    "    end\n",
    "    \n",
    "    return (kmin,cmin)\n",
    "end"
   ]
  },
  {
   "cell_type": "code",
   "execution_count": 182,
   "metadata": {
    "collapsed": false
   },
   "outputs": [
    {
     "data": {
      "text/plain": [
       "HuffmanTreeFirstAttempt (generic function with 1 method)"
      ]
     },
     "execution_count": 182,
     "metadata": {},
     "output_type": "execute_result"
    }
   ],
   "source": [
    "# IGNORE THIS !!!!\n",
    "# This was a first attempt, in coding the second __while__ statement I realized that\n",
    "# it could substitute for the ALL the code. In fact, the huffmanCode() algorithm is\n",
    "# just a copy/paste of the second __while__ loop.\n",
    "function HuffmanTreeFirstAttempt( pd ; rnd=5 )\n",
    "    init_pd = copy(pd)\n",
    "    huffman_tree = Dict()\n",
    "    \n",
    "    while(length(init_pd) > 0)\n",
    "        \n",
    "        #find the smallest probability in the probability distrabution\n",
    "        cmb_prob = 0.0\n",
    "        pair = Dict()\n",
    "        \n",
    "        #get first new item\n",
    "        m = (k,v) = minvalue(init_pd) # get the smallest value form the initial PD\n",
    "        push!(pair,k,v) # push that value\n",
    "        cmb_prob += pop!(init_pd,k)\n",
    "        \n",
    "        # if the init_PD is empty just add minvalue from Huffman\n",
    "        if( length(init_pd) == 0)\n",
    "            m = (k,v) = minvalue(huffman_tree)\n",
    "            push!(pair,k,v)\n",
    "            cmb_prob += pop!(huffman_tree,k)\n",
    "            push!(huffman_tree,pair,cmb_prob)\n",
    "            \n",
    "        end\n",
    "        \n",
    "        #do it a second time\n",
    "        m = (k,v) = minvalue(init_pd)\n",
    "        push!(pair,k,v)\n",
    "        cmb_prob += pop!(init_pd,k)\n",
    "        \n",
    "        # loop through the pair of values to find if there exists a value in the \n",
    "        # huffman tree which is smaller ( it is impossible that both values in the\n",
    "        # the __pair__ are less than value in the huffman tree )\n",
    "        for (k,v) in pair, (s,t) in huffman_tree\n",
    "            if( t < v)\n",
    "                push!(init_pd,k,v) # return the value back to the PD\n",
    "                cmb_prob -= pop!(pair,k) # remove the lesser prob, removing its contrib to cmb_prob\n",
    "                push!(pair,s,t)\n",
    "                cmb_prob += pop!(huffman_tree,s) \n",
    "                break\n",
    "            end\n",
    "        end\n",
    "        \n",
    "        # In the first case, when huffman is empty, the for loop will just skip\n",
    "        # and thats fine because we've already calculated what we need\n",
    "        \n",
    "        push!(huffman_tree,pair,round(cmb_prob,rnd))\n",
    "    end\n",
    "    \n",
    "    # now the case happens that all pairs have been added to the huffman tree\n",
    "    # but that does mean everything is done, the huffman tree can remain\n",
    "    while(length(huffman_tree) > 1)\n",
    "        cmb_prob = 0.0\n",
    "        pair = Dict()\n",
    "        \n",
    "        #get first new item\n",
    "        m = (k,v) = minvalue(huffman_tree) # get the smallest value form the huffman tree\n",
    "        push!(pair,k,v) \n",
    "        cmb_prob += pop!(huffman_tree,k)\n",
    "        \n",
    "        m = (k,v) = minvalue(huffman_tree) # get the smallest value form the huffman tree\n",
    "        push!(pair,k,v) \n",
    "        cmb_prob += pop!(huffman_tree,k)\n",
    "        \n",
    "        push!(huffman_tree,pair,round(cmb_prob,rnd))\n",
    "    end\n",
    "    \n",
    "    return huffman_tree\n",
    "    "
   ]
  },
  {
   "cell_type": "code",
   "execution_count": 124,
   "metadata": {
    "collapsed": false
   },
   "outputs": [
    {
     "data": {
      "text/plain": [
       "huffmanTree (generic function with 1 method)"
      ]
     },
     "execution_count": 124,
     "metadata": {},
     "output_type": "execute_result"
    }
   ],
   "source": [
    "function huffmanTree( pd; rounding = 5)\n",
    "    huffman_tree = copy(pd)\n",
    "    \n",
    "    while(length(huffman_tree) > 1)\n",
    "        cmb_prob = 0.0\n",
    "        pair = Dict()\n",
    "        \n",
    "        #get first new item\n",
    "        m = (k,v) = minvalue(huffman_tree) # get the smallest value form the huffman tree\n",
    "        push!(pair,k,v) \n",
    "        cmb_prob += pop!(huffman_tree,k)\n",
    "        \n",
    "        m = (k,v) = minvalue(huffman_tree) # get the smallest value form the huffman tree\n",
    "        push!(pair,k,v) \n",
    "        cmb_prob += pop!(huffman_tree,k)\n",
    "        \n",
    "        push!(huffman_tree,pair,round(cmb_prob,rounding))\n",
    "    end\n",
    "    \n",
    "    return huffman_tree\n",
    "end"
   ]
  },
  {
   "cell_type": "code",
   "execution_count": 111,
   "metadata": {
    "collapsed": false
   },
   "outputs": [
    {
     "data": {
      "text/plain": [
       "{{\"B\"=>0.2,\"A\"=>0.8}=>1.0}"
      ]
     },
     "execution_count": 111,
     "metadata": {},
     "output_type": "execute_result"
    }
   ],
   "source": [
    "hufftree_34 = huffmanTree(pd_34)"
   ]
  },
  {
   "cell_type": "code",
   "execution_count": 113,
   "metadata": {
    "collapsed": false
   },
   "outputs": [
    {
     "data": {
      "text/plain": [
       "{{\"AA\"=>0.64,{\"AB\"=>0.16,{\"BB\"=>0.04,\"BA\"=>0.16}=>0.2}=>0.36}=>1.0}"
      ]
     },
     "execution_count": 113,
     "metadata": {},
     "output_type": "execute_result"
    }
   ],
   "source": [
    "hufftree2_34 = huffmanTree(pd2_34)"
   ]
  },
  {
   "cell_type": "code",
   "execution_count": 119,
   "metadata": {
    "collapsed": false
   },
   "outputs": [
    {
     "data": {
      "text/plain": [
       "{{\"AAA\"=>0.512,{{{{\"BBB\"=>0.008,\"BAB\"=>0.032}=>0.04,{\"BBA\"=>0.032,\"ABB\"=>0.032}=>0.064}=>0.104,\"ABA\"=>0.128}=>0.232,{\"BAA\"=>0.128,\"AAB\"=>0.128}=>0.256}=>0.488}=>1.0}"
      ]
     },
     "execution_count": 119,
     "metadata": {},
     "output_type": "execute_result"
    }
   ],
   "source": [
    "hufftree3_34 = huffmanTree(pd3_34)"
   ]
  },
  {
   "cell_type": "code",
   "execution_count": 160,
   "metadata": {
    "collapsed": false
   },
   "outputs": [
    {
     "data": {
      "text/plain": [
       "huffmanCode (generic function with 1 method)"
      ]
     },
     "execution_count": 160,
     "metadata": {},
     "output_type": "execute_result"
    }
   ],
   "source": [
    "# given a huffman tree create a huffman code\n",
    "function huffmanCode( huff_tree; rounding = 5)\n",
    "    huff_code = copy(huff_tree)\n",
    "    \n",
    "    # set the first node to the empty string which will let the coding propagate down the tree\n",
    "    top = collect(keys(huff_code))[1]\n",
    "    huff_code[top] = \"\"\n",
    "        \n",
    "    while( sum(map((x)->(isa(x,Dict)), collect(keys(huff_code)))) > 0)\n",
    "        # this is complicated way of asking \"Are there any Dictionaries left?\", which is\n",
    "        # equivalent to the question \"Are all the letters encoded?\"\n",
    "        for (k,c) in huff_code\n",
    "            if( isa(k,Dict) )\n",
    "                kz = collect(keys(k))\n",
    "                push!(huff_code, kz[1], c*\"0\")\n",
    "                push!(huff_code, kz[2], c*\"1\")\n",
    "                pop!(huff_code,k) # remove the node, leaving the lower nodes\n",
    "            end\n",
    "        end\n",
    "    end\n",
    "\n",
    "    return huff_code\n",
    "end         "
   ]
  },
  {
   "cell_type": "code",
   "execution_count": 164,
   "metadata": {
    "collapsed": false
   },
   "outputs": [
    {
     "data": {
      "text/plain": [
       "{\"B\"=>\"0\",\"A\"=>\"1\"}"
      ]
     },
     "execution_count": 164,
     "metadata": {},
     "output_type": "execute_result"
    }
   ],
   "source": [
    "hc_34 = huffmanCode(hufftree_34)"
   ]
  },
  {
   "cell_type": "code",
   "execution_count": 165,
   "metadata": {
    "collapsed": false
   },
   "outputs": [
    {
     "data": {
      "text/plain": [
       "{\"AA\"=>\"0\",\"BB\"=>\"110\",\"AB\"=>\"10\",\"BA\"=>\"111\"}"
      ]
     },
     "execution_count": 165,
     "metadata": {},
     "output_type": "execute_result"
    }
   ],
   "source": [
    "hc2_34 = huffmanCode(hufftree2_34)"
   ]
  },
  {
   "cell_type": "code",
   "execution_count": 166,
   "metadata": {
    "collapsed": false
   },
   "outputs": [
    {
     "data": {
      "text/plain": [
       "{\"BAA\"=>\"110\",\"BBB\"=>\"10000\",\"AAA\"=>\"0\",\"AAB\"=>\"111\",\"BAB\"=>\"10001\",\"BBA\"=>\"10010\",\"ABB\"=>\"10011\",\"ABA\"=>\"101\"}"
      ]
     },
     "execution_count": 166,
     "metadata": {},
     "output_type": "execute_result"
    }
   ],
   "source": [
    "hc3_34 = huffmanCode(hufftree3_34)"
   ]
  },
  {
   "cell_type": "code",
   "execution_count": 178,
   "metadata": {
    "collapsed": false
   },
   "outputs": [
    {
     "data": {
      "text/plain": [
       "averageCodeLength (generic function with 1 method)"
      ]
     },
     "execution_count": 178,
     "metadata": {},
     "output_type": "execute_result"
    }
   ],
   "source": [
    "function averageCodeLength( pd, hc; base = 2 )\n",
    "    r = log(base, length(pd))\n",
    "    avg = 0.0\n",
    "    \n",
    "    for (k,v) in pd\n",
    "        avg += v*length(hc[k])\n",
    "    end\n",
    "    \n",
    "    return (avg/r)\n",
    "end"
   ]
  },
  {
   "cell_type": "code",
   "execution_count": 179,
   "metadata": {
    "collapsed": false
   },
   "outputs": [
    {
     "data": {
      "text/plain": [
       "1.0"
      ]
     },
     "execution_count": 179,
     "metadata": {},
     "output_type": "execute_result"
    }
   ],
   "source": [
    "averageCodeLength( pd_34, hc_34 )"
   ]
  },
  {
   "cell_type": "code",
   "execution_count": 180,
   "metadata": {
    "collapsed": false
   },
   "outputs": [
    {
     "data": {
      "text/plain": [
       "0.78"
      ]
     },
     "execution_count": 180,
     "metadata": {},
     "output_type": "execute_result"
    }
   ],
   "source": [
    "averageCodeLength( pd2_34, hc2_34 )"
   ]
  },
  {
   "cell_type": "code",
   "execution_count": 181,
   "metadata": {
    "collapsed": false
   },
   "outputs": [
    {
     "data": {
      "text/plain": [
       "0.7279999999999999"
      ]
     },
     "execution_count": 181,
     "metadata": {},
     "output_type": "execute_result"
    }
   ],
   "source": [
    "averageCodeLength( pd3_34, hc3_34 )"
   ]
  },
  {
   "cell_type": "markdown",
   "metadata": {},
   "source": [
    "## 4.16\n",
    "\n",
    "* $ P = 0.02$\n",
    "* $ a = 0.90$\n",
    "* $ \\frac{1}{P} = 50 $\n",
    "* $ n_p = 6 = \\log_2(2^{n_p}) \\ge \\log_2(\\frac{1}{P}) \\approx 5.6438 $\n",
    "* $ n = 7 = n_p + 1 $\n",
    "* $ c = 116 $ from $ c-1 = 115 \\le 2^{7}(0.9) = 115.2 \\le 116 = c $\n",
    "\n",
    "And 116 in binary is `1110100`\n"
   ]
  },
  {
   "cell_type": "markdown",
   "metadata": {},
   "source": [
    "## LZW encoding"
   ]
  },
  {
   "cell_type": "code",
   "execution_count": 199,
   "metadata": {
    "collapsed": false
   },
   "outputs": [
    {
     "data": {
      "text/plain": [
       "\"Lorem ipsum dolor sit amet, consectetur adipiscing elit. Aliquam sodales lacus nec augue sodales consequat. Nam vel placerat felis, ac posuere orci. Phasellus volutpat feugiat orci. Duis consectetur, orci ut porttitor vehicula, augue lectus egestas nunc, et condimentum est libero vel magna. Aenean tristique turpis vitae rutrum lobortis. Cras cursus ornare velit. Suspendisse lobortis nulla lectus, ac vehicula magna suscipit in. In sit amet dui in velit tristique placerat nec ultricies justo. Donec sed mollis quam. Praesent et sollicitudin eros, sit amet placerat quam. Integer sit amet lobortis turpis, quis viverra urna.\""
      ]
     },
     "execution_count": 199,
     "metadata": {},
     "output_type": "execute_result"
    }
   ],
   "source": [
    "sample = \"Lorem ipsum dolor sit amet, consectetur adipiscing elit. Aliquam sodales lacus nec augue sodales consequat. Nam vel placerat felis, ac posuere orci. Phasellus volutpat feugiat orci. Duis consectetur, orci ut porttitor vehicula, augue lectus egestas nunc, et condimentum est libero vel magna. Aenean tristique turpis vitae rutrum lobortis. Cras cursus ornare velit. Suspendisse lobortis nulla lectus, ac vehicula magna suscipit in. In sit amet dui in velit tristique placerat nec ultricies justo. Donec sed mollis quam. Praesent et sollicitudin eros, sit amet placerat quam. Integer sit amet lobortis turpis, quis viverra urna.\""
   ]
  },
  {
   "cell_type": "code",
   "execution_count": 241,
   "metadata": {
    "collapsed": false
   },
   "outputs": [
    {
     "data": {
      "text/plain": [
       "createAlphabet (generic function with 1 method)"
      ]
     },
     "execution_count": 241,
     "metadata": {},
     "output_type": "execute_result"
    }
   ],
   "source": [
    "function createAlphabet( text )\n",
    "    alphabet = Dict()\n",
    "    \n",
    "    for i in 1:length(text) \n",
    "        alphabet[text[i:i]] = get(alphabet,text[i:i],0)+1\n",
    "    end\n",
    "\n",
    "    return alphabet\n",
    "end"
   ]
  },
  {
   "cell_type": "code",
   "execution_count": 242,
   "metadata": {
    "collapsed": false
   },
   "outputs": [
    {
     "data": {
      "text/plain": [
       "{\"A\"=>2,\"e\"=>57,\"f\"=>2,\"m\"=>16,\" \"=>91,\"u\"=>41,\"l\"=>32,\"n\"=>25,\"r\"=>34,\"h\"=>3,\"j\"=>1,\"d\"=>9,\"S\"=>1,\"I\"=>2,\"g\"=>8,\"N\"=>1,\"s\"=>47,\"D\"=>2,\"i\"=>47,\"q\"=>7,\"P\"=>2,\"o\"=>29,\"v\"=>10,\"c\"=>28,\"C\"=>1,\",\"=>8,\"L\"=>1,\"b\"=>4,\"p\"=>12,\"t\"=>50,\".\"=>12,\"a\"=>41}"
      ]
     },
     "execution_count": 242,
     "metadata": {},
     "output_type": "execute_result"
    }
   ],
   "source": [
    "alpha = createAlphabet( sample )"
   ]
  },
  {
   "cell_type": "code",
   "execution_count": 468,
   "metadata": {
    "collapsed": false
   },
   "outputs": [
    {
     "data": {
      "text/plain": [
       "lzwEncode (generic function with 1 method)"
      ]
     },
     "execution_count": 468,
     "metadata": {},
     "output_type": "execute_result"
    }
   ],
   "source": [
    "# given an alphabet, create an lzw\n",
    "function lzwEncode( alphabet, text )\n",
    "    codebook = deepcopy(alphabet)\n",
    "    code = Array(Any,0)\n",
    "    \n",
    "    # initialize the codebook\n",
    "    lzw_idx = 1\n",
    "    for (s,c) in codebook\n",
    "        codebook[s] = lzw_idx\n",
    "        lzw_idx += 1\n",
    "    end\n",
    "    \n",
    "    # take a snapshot of the codebook which is just the encode alphabet\n",
    "    ab = deepcopy(codebook)\n",
    "    \n",
    "    # first symbol gets encoded and lzw codebook expanded\n",
    "    push!(code, codebook[text[1:1]])\n",
    "    push!(codebook,text[1:2], lzw_idx)\n",
    "    lzw_idx += 1\n",
    "    \n",
    "    i = 2\n",
    "    l = length(text)\n",
    "    while( i < l  )\n",
    "    \n",
    "        run_length = 0\n",
    "        while( ((i+run_length) < l) && (get(codebook,text[i:i+run_length] ,false) != false ))\n",
    "                  #( get(codebook,text[i:i+run_length],false) != false ) )\n",
    "            run_length += 1\n",
    "        end\n",
    "        \n",
    "        # run_length is 1 character past the readable block\n",
    "        \n",
    "        # first, push string (or char) to be encoded later\n",
    "        push!(code, codebook[ text[i:i+run_length-1] ])\n",
    "        \n",
    "        # then expand the codebook\n",
    "        push!(codebook,text[i:i+run_length],lzw_idx)\n",
    "        lzw_idx += 1\n",
    "        \n",
    "        i += (run_length)\n",
    "    end\n",
    "    \n",
    "    # find the fixed length of the code and convert the code to a binary string\n",
    "    fixed_length = int(ceil(log2(length(codebook))))\n",
    "    encoded = \"\"\n",
    "    for i in 1:length(code)\n",
    "        encoded = encoded*bin(code[i],fixed_length)\n",
    "    end\n",
    "    \n",
    "    return (ab, fixed_length, encoded)\n",
    "end"
   ]
  },
  {
   "cell_type": "code",
   "execution_count": 469,
   "metadata": {
    "collapsed": false
   },
   "outputs": [
    {
     "data": {
      "text/plain": [
       "({\"A\"=>1,\"e\"=>2,\"f\"=>3,\"m\"=>4,\" \"=>5,\"u\"=>6,\"l\"=>7,\"n\"=>8,\"r\"=>9,\"h\"=>10,\"j\"=>11,\"d\"=>12,\"S\"=>13,\"I\"=>14,\"g\"=>15,\"N\"=>16,\"s\"=>17,\"D\"=>18,\"i\"=>19,\"q\"=>20,\"P\"=>21,\"o\"=>22,\"v\"=>23,\"c\"=>24,\"C\"=>25,\",\"=>26,\"L\"=>27,\"b\"=>28,\"p\"=>29,\"t\"=>30,\".\"=>31,\"a\"=>32},9,\"000011011000010110000001001000000010000000100000000101000010011000011101000010001000000110000100101000001100000010110000000111000100010000000101000010001000010011000011110000000101000100000000000100000000010000011110000011010000000101000011000000010110000001000000010001000000010000011000000011110000110111000000110000001001000110100000001100000100111000010011000010001000011000000010011000001000000001111000000101000000010000000111000110010000011111000000101000000001001010000000010100000000110000110101000110000000010110000001100000100000000000111000000010000010001000000101000000111000100000000011000000000110001011111000001000000111111000110100000000110000001111000000110000000010001011001001011011001011101001011111000111011000111101000000010001010110000100000000011110001010010000010000001011000000010111001001111000000101000011101001100001000011000000000010000001001001110101000000101000000011001001111001001000000111001001100010001111100000010110000101001010000000001101100000100010001001010001010010000010101000001010000100000000111110000000111000000111001100100000000101000010111000101101000000110000011110000011101010000010010000100001101001000010011010000010010001110000010011001010010000010010000000110001001000000111010000111100000111110001000000001000010000001001000111001010100011000000101010011011010001001000001001000011110000011110000110010000101111001111010000001010000010011001100011001100001010000111001101001001101011001100000000111111000011110010010111000000010000001111001011110000011110010010011000000101000001000000000110000001000000011000000111001000110111010101001000001000001000110000110110000001000011000011000100101011000111001100000000010011000011100010000000000010110010011000001111011000000100000100000000001111000001000000100000001010010000000001000000010001100110000100000000001000000000101000011110000001001001001000010110110001010110001101100011000011000001001000011101010101000000010111000110010000100000001101100000001001010011011011111010000100101000101110000011100000100010010110110000010001001010010000011001010000001001110000001000011000101001001011111000100010011100011000100011011011110001010000001110110000000101000001101001100100000011101011100111001000110000010001000111110001100000000010110011111111010110100010101000011001011010010101000100000011000001001000000001100100010000111000011000011011110010111010010111100100011111011100000011100010100011111100001000001001010011110100000110011001001011001010010000001110011101010000110001000110011000110101011010000000001100010100111000100110011101010001111010100001110011101011011101101000010001011101111011000000001111101001100010010000000010000010001100110100100100000000110000000111011101100010111011000010011001011110000000101000001011001100100000011110000010110010100101000111100001100111000111110000001100000000101000000100000101101001010000001011111001110100000000100010010000010000001001011110011100111000110011011010000000010001101011011101001100011000011001000110011101010011011100000010001000111001100110100000110100000110110000110011101000011001111111010000001000110011101011110100110001011010101011000101010000000000110000000110010101110000011010000011111110100000000010101000011110010011110100101101101000000101001010110011110101000010011001111010000001001010000001010110001000001001011100011\")"
      ]
     },
     "execution_count": 469,
     "metadata": {},
     "output_type": "execute_result"
    }
   ],
   "source": [
    "lzw_sample = lzwEncode(alpha,sample)"
   ]
  },
  {
   "cell_type": "code",
   "execution_count": 470,
   "metadata": {
    "collapsed": false
   },
   "outputs": [
    {
     "data": {
      "text/plain": [
       "367.0"
      ]
     },
     "execution_count": 470,
     "metadata": {},
     "output_type": "execute_result"
    }
   ],
   "source": [
    "length(lzw_sample[3])/lzw_sample[2]"
   ]
  },
  {
   "cell_type": "code",
   "execution_count": 471,
   "metadata": {
    "collapsed": false
   },
   "outputs": [
    {
     "data": {
      "text/plain": [
       "lzw_decode (generic function with 1 method)"
      ]
     },
     "execution_count": 471,
     "metadata": {},
     "output_type": "execute_result"
    }
   ],
   "source": [
    "function lzw_decode( alphabet, fxl, encoded_text )\n",
    "    ab = copy(alphabet)\n",
    "    codebook = Dict()\n",
    "    idx = length(alphabet)+1\n",
    "    \n",
    "    #inveret the codebook\n",
    "    for (c,s) in alphabet\n",
    "        push!(codebook, bin(s,fxl), c)\n",
    "    end\n",
    "#10    \n",
    "    decoded = codebook[encoded_text[1:fxl]]\n",
    "    \n",
    "    # peek \n",
    "    new_string = codebook[encoded_text[1:fxl]]\n",
    "    println(new_string)\n",
    "    new_string = new_string*codebook[encoded_text[(1+fxl):(fxl+fxl)]]\n",
    "    push!(codebook,bin(idx,fxl),new_string)\n",
    "    push!(ab,new_string, idx)\n",
    "    idx += 1\n",
    "\n",
    "    for i = 1+fxl:fxl:length(encoded_text)-fxl\n",
    "        decoded = decoded*codebook[encoded_text[i:i+fxl-1]]\n",
    "        new_string = codebook[encoded_text[i:(i+fxl-1)]]*codebook[encoded_text[(i+fxl):(i+fxl+fxl-1)]]\n",
    "        push!(codebook, bin(idx,fxl),new_string)\n",
    "        push!(ab, new_string, idx)\n",
    "        idx += 1\n",
    "    end\n",
    "    return decoded\n",
    "end\n",
    "        "
   ]
  },
  {
   "cell_type": "code",
   "execution_count": 472,
   "metadata": {
    "collapsed": false
   },
   "outputs": [
    {
     "name": "stdout",
     "output_type": "stream",
     "text": [
      "L\n"
     ]
    },
    {
     "data": {
      "text/plain": [
       "\"Lorem ipsum dolor sit amet, consectetur adipiscing elit. Alitquam sodales lacus nec augue sodales consequat. Nam svel placerat felis, ac posuere soorci. Phasellus  volutpat felugiat orcii. Duis consectetur, orcii ut porttitor velhicula, acugue lectus  egestase nunc, et conndipmentus  m est libero vel magna. Aenecan tristitque sotus  rpis cvitae sorutrutm lorbortits. Crats coursus ornare vel litt.  Sus penecdipsse loborrtis cnulla lecctus , acc vel hiculaa lecmagna lecsus cipis ct in. In sit amet conduis in vellitt.  trisstitquue lplaacerat necc vel ultricuies jus to. Donec ased mollits quam. Pratesenect et consolliticuitus  dipn eros, sit  amet plaacceratt quam. Intus  eger sit ameet conlorbortitis ctus  rpis cs,  quis cvivelrrat utr\""
      ]
     },
     "execution_count": 472,
     "metadata": {},
     "output_type": "execute_result"
    }
   ],
   "source": [
    "lzw_decode(lzw_sample[1], lzw_sample[2], lzw_sample[3])"
   ]
  },
  {
   "cell_type": "code",
   "execution_count": 459,
   "metadata": {
    "collapsed": false
   },
   "outputs": [
    {
     "data": {
      "text/plain": [
       "626"
      ]
     },
     "execution_count": 459,
     "metadata": {},
     "output_type": "execute_result"
    }
   ],
   "source": [
    "length(sample)"
   ]
  },
  {
   "cell_type": "code",
   "execution_count": null,
   "metadata": {
    "collapsed": false
   },
   "outputs": [],
   "source": []
  }
 ],
 "metadata": {
  "kernelspec": {
   "display_name": "Julia 0.4.5",
   "language": "julia",
   "name": "julia-0.4"
  },
  "language_info": {
   "file_extension": ".jl",
   "mimetype": "application/julia",
   "name": "julia",
   "version": "0.4.5"
  }
 },
 "nbformat": 4,
 "nbformat_minor": 0
}
